{
 "cells": [
  {
   "cell_type": "markdown",
   "metadata": {},
   "source": [
    "# Basic info that should be at the beginning of  every jupyter notebook\n",
    "* John Horel\n",
    "* ATMOS 5040/ Spring 2019\n",
    "* January 16 inclass assignment\n",
    "* Requires alta_snow.csv"
   ]
  },
  {
   "cell_type": "markdown",
   "metadata": {},
   "source": [
    "**January 16 2019**  \n",
    "**ATMOS 5040: Environmental Statistics**  \n",
    "**John Horel **\n",
    "\n",
    "Download this notebook and all images and data by downloading the ZIP file from GitHub, or use the git command:\n",
    "\n",
    "    git clone https://github.com/johnhorel/ATMOS_5040_2019.git\n",
    "    \n",
    "> Note: Windows users will have to install [git for Windows](https://gitforwindows.org/) and execute the git command from the PowerShell."
   ]
  },
  {
   "cell_type": "markdown",
   "metadata": {},
   "source": [
    "# Using Julia modules\n",
    "\n",
    "`DelimitedFiles` is a _standard library_ module that handles csv/tsv file formats  \n",
    "`Statistics` is a standard library module with some basic statistics functions  \n",
    "`PyPlot` is a _binding_ of Python's matplotlib"
   ]
  },
  {
   "cell_type": "code",
   "execution_count": 1,
   "metadata": {},
   "outputs": [],
   "source": [
    "using DelimitedFiles\n",
    "using Statistics\n",
    "\n",
    "using PyPlot"
   ]
  },
  {
   "cell_type": "markdown",
   "metadata": {},
   "source": [
    "---\n",
    "\n",
    "# January 16, 2019 Inclass assignment\n",
    "\n",
    "# Long-term variations in Alta snowfall\n",
    "\n",
    "For info on the data\n",
    "http://utahavalanchecenter.org/alta-monthly-snowfall\n",
    "\n",
    "On GitHub, look in the `data` folder for a file called `alta_snow.csv` and download it. \n",
    "\n",
    "Open the `alta_snow.csv` file in the Jupyter Lab environment to see the column contents and the units.\n",
    "\n",
    "-column 1 is the year and column 8 is the seasonal total\n"
   ]
  },
  {
   "cell_type": "code",
   "execution_count": null,
   "metadata": {},
   "outputs": [],
   "source": []
  },
  {
   "cell_type": "code",
   "execution_count": 2,
   "metadata": {},
   "outputs": [],
   "source": [
    "#read the lake level data\n",
    "data = readdlm(\"../data/alta_snow.csv\", ',')\n",
    "year = convert.(Int, data[:, 1])\n",
    "#convert seasonal totals from inches to cm\n",
    "tot = 2.54 .* data[:, 8];"
   ]
  },
  {
   "cell_type": "code",
   "execution_count": 3,
   "metadata": {},
   "outputs": [
    {
     "name": "stdout",
     "output_type": "stream",
     "text": [
      "[1946, 1947, 1948, 1949, 1950, 1951, 1952, 1953, 1954, 1955, 1956, 1957, 1958, 1959, 1960, 1961, 1962, 1963, 1964, 1965, 1966, 1967, 1968, 1969, 1970, 1971, 1972, 1973, 1974, 1975, 1976, 1977, 1978, 1979, 1980, 1981, 1982, 1983, 1984, 1985, 1986, 1987, 1988, 1989, 1990, 1991, 1992, 1993, 1994, 1995, 1996, 1997, 1998, 1999, 2000, 2001, 2002, 2003, 2004, 2005, 2006, 2007, 2008, 2009, 2010, 2011, 2012, 2013, 2014, 2015, 2016, 2017, 2018]\n",
      "[1145.54, 949.96, 1394.46, 1328.42, 1211.58, 886.46, 1628.14, 1043.94, 972.82, 1198.88, 1168.4, 980.44, 1421.13, 980.44, 1004.57, 828.04, 1019.81, 1018.54, 1437.64, 1455.42, 1099.82, 1381.76, 1217.93, 1437.89, 1165.86, 1223.01, 1185.16, 1261.11, 1512.82, 1536.7, 1116.33, 798.83, 1332.23, 1493.52, 1305.56, 993.14, 1767.84, 1617.98, 1888.49, 1160.78, 1521.46, 969.772, 1042.16, 1477.01, 1137.92, 1473.71, 1003.3, 1652.02, 1245.36, 1893.32, 1427.48, 1521.71, 1460.25, 1164.34, 1132.84, 1193.04, 1441.96, 1014.48, 1449.83, 1406.14, 1609.09, 904.24, 1661.16, 1468.12, 1092.2, 1404.62, 836.93, 971.55, 908.05, 679.45, 998.22, 1347.47, 731.52]\n"
     ]
    }
   ],
   "source": [
    "println(year)\n",
    "println(tot)"
   ]
  },
  {
   "cell_type": "markdown",
   "metadata": {},
   "source": [
    "# Do some basic calcs on the Alta snowfall data"
   ]
  },
  {
   "cell_type": "code",
   "execution_count": 4,
   "metadata": {},
   "outputs": [
    {
     "name": "stdout",
     "output_type": "stream",
     "text": [
      "number of years= 73\n",
      "mean seasonal total= 1244.0015342465751 cm\n",
      "year of max seasonal total and amount: 1995 1893.316 cm\n",
      "year of min seasonal total and amount: 2015 679.45 cm\n"
     ]
    }
   ],
   "source": [
    "# determine the number of years\n",
    "ny = length(year)\n",
    "println(\"number of years= \", ny)\n",
    "#compute the mean of seasonal totals\n",
    "mmn = mean(tot)\n",
    "println(\"mean seasonal total= $mmn cm\")\n",
    "#find the max seasonal value and the year of that max\n",
    "maxs = maximum(tot)\n",
    "mxi = argmax(tot)\n",
    "println(\"year of max seasonal total and amount: $(year[mxi]) $maxs cm\")\n",
    "#find the min seasonal value and the year of that min\n",
    "mins = minimum(tot)\n",
    "mni = argmin(tot)\n",
    "println(\"year of min seasonal total and amount: $(year[mni]) $mins cm\")"
   ]
  },
  {
   "cell_type": "markdown",
   "metadata": {},
   "source": [
    "# Figure 2.1\n",
    "\n",
    "Create bar plot time series of Alta seasonal snowfall totals"
   ]
  },
  {
   "cell_type": "code",
   "execution_count": null,
   "metadata": {},
   "outputs": [],
   "source": [
    "ticks = collect(1950:5:2019)\n",
    "fig, ax1 = subplots(1, 1, figsize=(10, 5))\n",
    "bar(year, tot, color=\"green\")\n",
    "xlim(1946, 2018)\n",
    "xlabel(\"Year\")\n",
    "ylim(500, 2000)\n",
    "ylabel(\"Snow Total (cm)\")\n",
    "xticks(ticks)\n",
    "title(\"Alta water year snow total (cm) John Horel 1/13/2019\")\n",
    "grid(linestyle=\"--\", color=\"grey\", linewidth=.2)\n",
    "\n",
    "savefig(\"alta_anow_inclass_2019_julia.png\")\n"
   ]
  },
  {
   "cell_type": "code",
   "execution_count": null,
   "metadata": {},
   "outputs": [],
   "source": []
  }
 ],
 "metadata": {
  "kernelspec": {
   "display_name": "Julia 1.0.3",
   "language": "julia",
   "name": "julia-1.0"
  },
  "language_info": {
   "file_extension": ".jl",
   "mimetype": "application/julia",
   "name": "julia",
   "version": "1.0.3"
  }
 },
 "nbformat": 4,
 "nbformat_minor": 2
}
